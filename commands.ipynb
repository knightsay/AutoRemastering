{
 "cells": [
  {
   "cell_type": "markdown",
   "id": "e153b9d3-1edd-4f90-8569-0548898d8be2",
   "metadata": {},
   "source": [
    "# Commands"
   ]
  },
  {
   "cell_type": "code",
   "execution_count": 16,
   "id": "5304b617-4ea6-460d-a6e7-b2cb3404133f",
   "metadata": {},
   "outputs": [],
   "source": [
    "# !yt-dlp -F https://www.youtube.com/watch?v=ovnRJHNxQuE\n",
    "# convert -resize 1024X768  source.png dest.jpg"
   ]
  },
  {
   "cell_type": "markdown",
   "id": "19bf25c8-a95d-413a-bb91-7b796b943a10",
   "metadata": {},
   "source": [
    "# Estimate G-Buffers"
   ]
  },
  {
   "cell_type": "code",
   "execution_count": null,
   "id": "1c91ec67-cfe4-4872-a076-7359a182a175",
   "metadata": {},
   "outputs": [],
   "source": [
    "# https://paperswithcode.com/task/surface-normals-estimation\n",
    "# https://paperswithcode.com/task/monocular-depth-estimation\n",
    "# "
   ]
  },
  {
   "cell_type": "markdown",
   "id": "208be6dd-2d2c-46a0-921b-5329aa0664f3",
   "metadata": {},
   "source": [
    "# Data Links"
   ]
  },
  {
   "cell_type": "code",
   "execution_count": null,
   "id": "5c7cd87a-f4c4-4039-a5cd-0817ce6cc4c0",
   "metadata": {},
   "outputs": [],
   "source": [
    "# Halo 1: https://www.youtube.com/watch?v=J6jk4yd8SNY\n",
    "# Halo 2: https://www.youtube.com/watch?v=ovnRJHNxQuE\n",
    "# TLOU1: https://www.youtube.com/watch?v=Sq3Vwq9AvBo\n",
    "# TLOU1 Left Behind: https://www.youtube.com/watch?v=HiaZptJz7Mw\n",
    "# CODMW - All Gillied Up: https://www.youtube.com/watch?v=9WF_DAUczbw\n",
    "# CODMW - Intro: https://www.youtube.com/watch?v=ptTg_kFXjfY\n",
    "# CODMW - Others: https://www.youtube.com/watch?v=jKHYUw2P2wM\n",
    "# CODMW - Mile High Club: https://www.youtube.com/watch?v=XwjZ7jc7E4s\n",
    "# CODMW2: https://www.youtube.com/watch?v=BfV_hfJRx9w"
   ]
  },
  {
   "cell_type": "markdown",
   "id": "ba60665e-689e-4fe6-9c2a-1d9fdf287ce7",
   "metadata": {},
   "source": [
    "# Inspirations"
   ]
  },
  {
   "cell_type": "code",
   "execution_count": null,
   "id": "b3515dc0-1e4e-41e5-88b5-c7e8250d282f",
   "metadata": {},
   "outputs": [],
   "source": [
    "# Fornite -> PUBG: https://www.youtube.com/watch?v=yTR10gPbT4Y&list=PL3YDJVV_1t7tetlo8TCdKUOQMvKV-gLME&index=21\n",
    "\n",
    "# Game-specific super-sampling (aware of anti-aliasing, etc.): \n",
    "# https://www.youtube.com/watch?v=ElQ-QxzpzcM&list=PL3YDJVV_1t7tetlo8TCdKUOQMvKV-gLME&index=31\n",
    "\n",
    "# Eliminated: EPE discussed results of WCT2, not good enough\n",
    "# Picture style transfer: stylize 1024×1024 resolution image in 4.7 seconds\n",
    "# Could be faster if the stylization template is processed in-memory first?\n",
    "# https://github.com/NVIDIA/FastPhotoStyle (v1) and https://github.com/clovaai/WCT2 (v2)"
   ]
  },
  {
   "cell_type": "markdown",
   "id": "bb9bc4f5-a6de-46f9-9153-78911e4b0193",
   "metadata": {},
   "source": [
    "# GCP VM Issues"
   ]
  },
  {
   "cell_type": "code",
   "execution_count": null,
   "id": "4fb4e053-3f65-4495-8bfc-5b9b585ca680",
   "metadata": {},
   "outputs": [],
   "source": [
    "# https://www.googlecloudcommunity.com/gc/Infrastructure-Compute-Storage/Shortage-of-Compute-Engine-Resource-in-us-central-1/m-p/492518\n",
    "# https://news.ycombinator.com/item?id=33725148\n",
    "\n",
    "# https://medium.com/analytics-vidhya/setting-up-jupyter-lab-instance-on-google-cloud-platform-3a7acaa732b7"
   ]
  },
  {
   "cell_type": "markdown",
   "id": "368088af-5ec0-4ccc-a631-2c97b392aa0b",
   "metadata": {},
   "source": [
    "# Graphics Mods"
   ]
  },
  {
   "cell_type": "code",
   "execution_count": 5,
   "id": "4c3bb06a-dd4f-4e08-b147-0fc2b5d7ca4d",
   "metadata": {},
   "outputs": [],
   "source": [
    "# https://www.gta5-mods.com/misc/visualv"
   ]
  },
  {
   "cell_type": "markdown",
   "id": "632770e2-00ca-4e1e-8764-9062e293cc36",
   "metadata": {},
   "source": [
    "# Paper With Code"
   ]
  },
  {
   "cell_type": "code",
   "execution_count": null,
   "id": "e6e5ee6d-b1dc-40c0-aa7a-1cd4a6359467",
   "metadata": {},
   "outputs": [],
   "source": [
    "# https://paperswithcode.com/task/semantic-segmentation\n",
    "# https://paperswithcode.com/task/monocular-depth-estimation\n",
    "# https://paperswithcode.com/task/surface-normals-estimation"
   ]
  }
 ],
 "metadata": {
  "kernelspec": {
   "display_name": "Python 3 (ipykernel)",
   "language": "python",
   "name": "python3"
  },
  "language_info": {
   "codemirror_mode": {
    "name": "ipython",
    "version": 3
   },
   "file_extension": ".py",
   "mimetype": "text/x-python",
   "name": "python",
   "nbconvert_exporter": "python",
   "pygments_lexer": "ipython3",
   "version": "3.10.8"
  }
 },
 "nbformat": 4,
 "nbformat_minor": 5
}

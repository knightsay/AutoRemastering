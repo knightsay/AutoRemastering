{
 "cells": [
  {
   "cell_type": "markdown",
   "id": "fc6edbfc-2c6c-4d22-bfc9-805187d22865",
   "metadata": {},
   "source": [
    "# CUT"
   ]
  },
  {
   "cell_type": "code",
   "execution_count": null,
   "id": "090807e8-0816-44e2-a3f1-332c211f97e9",
   "metadata": {},
   "outputs": [],
   "source": [
    "!cd CUT && bash ./datasets/download_cut_dataset.sh grumpifycat"
   ]
  },
  {
   "cell_type": "code",
   "execution_count": null,
   "id": "e123af15-c199-4cbb-acdb-5afb40e84e8f",
   "metadata": {},
   "outputs": [],
   "source": [
    "!cd CUT && python3 train.py --dataroot ./datasets/grumpifycat --name grumpycat_FastCUT --CUT_mode FastCUT --gpu_ids -1"
   ]
  },
  {
   "cell_type": "code",
   "execution_count": null,
   "id": "007f031d-465a-4b34-b110-f94bb452d6e9",
   "metadata": {},
   "outputs": [],
   "source": [
    "!python3 -m visdom.server\n",
    "# http://localhost:8097\n",
    "\n",
    "# If address is used when starting visdom\n",
    "# !lsof -i tcp:8097\n",
    "# !kill -9 <PID>"
   ]
  },
  {
   "cell_type": "code",
   "execution_count": null,
   "id": "08f20b0a-ce0e-4156-a864-c4843d7670b8",
   "metadata": {},
   "outputs": [],
   "source": [
    "--no-flip\n",
    "--n_epochs N_EPOCHS   number of epochs with the initial learning rate (default: 200)\n",
    "--n_epochs_decay N_EPOCHS_DECAY\n",
    "                    number of epochs to linearly decay learning rate to zero (default: 200)"
   ]
  },
  {
   "cell_type": "markdown",
   "id": "46a9efde-85ba-4ffa-a427-7c5bce1242f0",
   "metadata": {},
   "source": [
    "# EPE"
   ]
  },
  {
   "cell_type": "code",
   "execution_count": 1,
   "id": "zGT7HRPZ1q_8",
   "metadata": {
    "colab": {
     "base_uri": "https://localhost:8080/",
     "height": 1000
    },
    "id": "zGT7HRPZ1q_8",
    "outputId": "ecf8c709-7a74-46d4-8b1f-95d3cb705d59"
   },
   "outputs": [],
   "source": [
    "is_colab = False\n",
    "\n",
    "if is_colab:\n",
    "    !git clone https://github.com/mseg-dataset/mseg-api.git\n",
    "    !git clone https://github.com/mseg-dataset/mseg-semantic.git\n",
    "    !git clone https://github.com/isl-org/PhotorealismEnhancement.git\n",
    "\n",
    "    !pip3 install -e mseg-api/.\n",
    "    !pip3 install -e mseg-semantic/.\n",
    "    !pip3 install faiss-gpu\n",
    "    !pip3 install lpips\n",
    "    !pip3 install kornia\n",
    "    !pip3 install kornia[x]\n",
    "    !pip3 install pytorch torchvision cudatoolkit==10.2\n",
    "    !pip3 install scikit-image\n",
    "    !pip3 install imageio\n",
    "    !pip3 install tqdm\n",
    "    !pip3 install -e PhotorealismEnhancement/code/.\n",
    "\n",
    "    from google.colab import drive\n",
    "    drive.mount('/content/drive')\n",
    "\n",
    "from tqdm import tqdm\n",
    "import imageio\n",
    "import numpy as np\n",
    "import os\n",
    "import pandas as pd\n",
    "import warnings\n",
    "\n",
    "\n",
    "game = 'halo2'\n",
    "warnings.filterwarnings('ignore')"
   ]
  },
  {
   "cell_type": "code",
   "execution_count": null,
   "id": "35fc7c67-738c-4eb1-a937-daf090a1b1f7",
   "metadata": {},
   "outputs": [],
   "source": [
    "# !convert -size 960x480 xc:black nan_gt_sseg.png\n",
    "# !ffmpeg -ss 00:00:00 -to 00:38:44 -i halo2_cg_comparison_raw.mp4 -c copy halo2_cg_comparison.mp4\n",
    "# !rm halo2_cg_comparison_raw.mp4\n",
    "# !mkdir snaps\n",
    "# !ffmpeg -i halo2_cg_comparison.mp4 -r 0.02 snaps/snap_%04d.png\n",
    "# !convert snaps/snap_*.png -gravity East -crop 50%x100%+0+0 origs/orig_%04d.png\n",
    "# !convert snaps/snap_*.png -gravity West -crop 50%x100%+0+0 remasters/rmst_%04d.png\n",
    "# !mogrify +repage -crop 960x480+0+270 rmst_*.png"
   ]
  },
  {
   "cell_type": "code",
   "execution_count": 2,
   "id": "4086e6a8-ee7c-481c-881a-0551c7f22494",
   "metadata": {},
   "outputs": [],
   "source": [
    "def filter_raw_snaps(folder):\n",
    "    # Certain input images are all black / white so would raise error\n",
    "    files = os.listdir(folder)\n",
    "    valid_files = []\n",
    "\n",
    "    for path in tqdm(files):\n",
    "        full_path = os.path.join(folder, path)\n",
    "        \n",
    "        try:\n",
    "            test = np.clip(imageio.imread(full_path).astype(np.float32) / 255.0, 0.0, 1.0)[:,:,:3]\n",
    "            valid_files.append(full_path)\n",
    "        except Exception:\n",
    "            pass\n",
    "\n",
    "    return valid_files"
   ]
  },
  {
   "cell_type": "code",
   "execution_count": 7,
   "id": "VLPOVByZlZQx",
   "metadata": {
    "colab": {
     "base_uri": "https://localhost:8080/"
    },
    "id": "VLPOVByZlZQx",
    "outputId": "bd3523f5-fba2-4c88-e257-78bb375fb9a5"
   },
   "outputs": [
    {
     "name": "stderr",
     "output_type": "stream",
     "text": [
      "  0%|                                                | 0/61 [00:00<?, ?it/s]/var/folders/gc/y6z42t0n7v5bkllyb2j25wk40000gn/T/ipykernel_25570/3672624106.py:10: DeprecationWarning: Starting with ImageIO v3 the behavior of this function will switch to that of iio.v3.imread. To keep the current behavior (and make this warning disappear) use `import imageio.v2 as imageio` or call `imageio.v2.imread` directly.\n",
      "  test = np.clip(imageio.imread(full_path).astype(np.float32) / 255.0, 0.0, 1.0)[:,:,:3]\n",
      "100%|███████████████████████████████████████| 61/61 [00:01<00:00, 52.09it/s]\n",
      "100%|███████████████████████████████████████| 61/61 [00:01<00:00, 56.27it/s]\n"
     ]
    }
   ],
   "source": [
    "if is_colab:\n",
    "    orig_folder = '/content/drive/Othercomputers/My MacBook Pro/GoogleDrive/origs'\n",
    "    rmst_folder = '/content/drive/Othercomputers/My MacBook Pro/GoogleDrive/remasters'\n",
    "else:\n",
    "    orig_folder = f'data/{game}/origs'\n",
    "    rmst_folder = f'data/{game}/remasters'\n",
    "    \n",
    "pd.Series(filter_raw_snaps(orig_folder)).to_csv(f'data/{game}/orig_files.csv', index=False, header=False)\n",
    "pd.Series(filter_raw_snaps(rmst_folder)).to_csv(f'data/{game}/rmst_files.csv', index=False, header=False)"
   ]
  },
  {
   "cell_type": "code",
   "execution_count": 17,
   "id": "mLdBRL3q4g7-",
   "metadata": {
    "colab": {
     "base_uri": "https://localhost:8080/"
    },
    "id": "mLdBRL3q4g7-",
    "outputId": "88a35af9-a354-4cdc-e398-d1a11fbcd6b1"
   },
   "outputs": [
    {
     "name": "stdout",
     "output_type": "stream",
     "text": [
      "NOTE: Redirects are currently not supported in Windows or MacOs.\n",
      "/Library/Frameworks/Python.framework/Versions/3.10/lib/python3.10/site-packages/torchvision/models/_utils.py:208: UserWarning: The parameter 'pretrained' is deprecated since 0.13 and may be removed in the future, please use 'weights' instead.\n",
      "  warnings.warn(\n",
      "/Library/Frameworks/Python.framework/Versions/3.10/lib/python3.10/site-packages/torchvision/models/_utils.py:223: UserWarning: Arguments other than a weight enum or `None` for 'weights' are deprecated since 0.13 and may be removed in the future. The current behavior is equivalent to passing `weights=VGG16_Weights.IMAGENET1K_V1`. You can also use `weights=VGG16_Weights.DEFAULT` to get the most up-to-date weights.\n",
      "  warnings.warn(msg)\n",
      "Computing mean/std...\n",
      "0it [00:00, ?it/s]NOTE: Redirects are currently not supported in Windows or MacOs.\n",
      "58it [00:07,  7.27it/s]\n",
      "  0%|                                                    | 0/58 [00:00<?, ?it/s]NOTE: Redirects are currently not supported in Windows or MacOs.\n",
      "100%|███████████████████████████████████████████| 58/58 [01:43<00:00,  1.78s/it]\n"
     ]
    }
   ],
   "source": [
    "os.makedirs(f'data/{game}/gbuffers')\n",
    "!python3 PhotorealismEnhancement/code/epe/dataset/generate_fake_gbuffers.py {game}_GBF data/{game}/orig_files.csv --out_dir data/{game}/gbuffers"
   ]
  },
  {
   "cell_type": "code",
   "execution_count": 21,
   "id": "mHlds7yV30iO",
   "metadata": {
    "colab": {
     "base_uri": "https://localhost:8080/"
    },
    "id": "mHlds7yV30iO",
    "outputId": "c854e231-3d1b-473f-e2f0-7343b3f0bf2e"
   },
   "outputs": [
    {
     "name": "stdout",
     "output_type": "stream",
     "text": [
      "NOTE: Redirects are currently not supported in Windows or MacOs.\n",
      "/Library/Frameworks/Python.framework/Versions/3.10/lib/python3.10/site-packages/torchvision/models/_utils.py:208: UserWarning: The parameter 'pretrained' is deprecated since 0.13 and may be removed in the future, please use 'weights' instead.\n",
      "  warnings.warn(\n",
      "/Library/Frameworks/Python.framework/Versions/3.10/lib/python3.10/site-packages/torchvision/models/_utils.py:223: UserWarning: Arguments other than a weight enum or `None` for 'weights' are deprecated since 0.13 and may be removed in the future. The current behavior is equivalent to passing `weights=VGG16_Weights.IMAGENET1K_V1`. You can also use `weights=VGG16_Weights.DEFAULT` to get the most up-to-date weights.\n",
      "  warnings.warn(msg)\n",
      "Computing mean/std...\n",
      "0it [00:00, ?it/s]NOTE: Redirects are currently not supported in Windows or MacOs.\n",
      "58it [00:08,  7.22it/s]\n",
      "Sampling crops...\n",
      "  0%|                                                    | 0/58 [00:00<?, ?it/s]NOTE: Redirects are currently not supported in Windows or MacOs.\n",
      "Image size is 1080x960 - sampling 15 crops per image.\n",
      "100%|███████████████████████████████████████████| 58/58 [00:34<00:00,  1.68it/s]\n",
      "Saving features.\n",
      "NOTE: Redirects are currently not supported in Windows or MacOs.\n",
      "/Library/Frameworks/Python.framework/Versions/3.10/lib/python3.10/site-packages/torchvision/models/_utils.py:208: UserWarning: The parameter 'pretrained' is deprecated since 0.13 and may be removed in the future, please use 'weights' instead.\n",
      "  warnings.warn(\n",
      "/Library/Frameworks/Python.framework/Versions/3.10/lib/python3.10/site-packages/torchvision/models/_utils.py:223: UserWarning: Arguments other than a weight enum or `None` for 'weights' are deprecated since 0.13 and may be removed in the future. The current behavior is equivalent to passing `weights=VGG16_Weights.IMAGENET1K_V1`. You can also use `weights=VGG16_Weights.DEFAULT` to get the most up-to-date weights.\n",
      "  warnings.warn(msg)\n",
      "Computing mean/std...\n",
      "0it [00:00, ?it/s]NOTE: Redirects are currently not supported in Windows or MacOs.\n",
      "60it [00:07,  7.57it/s]\n",
      "Sampling crops...\n",
      "  0%|                                                    | 0/60 [00:00<?, ?it/s]NOTE: Redirects are currently not supported in Windows or MacOs.\n",
      "Image size is 1080x960 - sampling 15 crops per image.\n",
      "100%|███████████████████████████████████████████| 60/60 [00:35<00:00,  1.70it/s]\n",
      "Saving features.\n"
     ]
    }
   ],
   "source": [
    "!python3 PhotorealismEnhancement/code/epe/matching/feature_based/collect_crops.py {game}_Orig data/{game}/orig_files.csv --out_dir data/{game}\n",
    "!python3 PhotorealismEnhancement/code/epe/matching/feature_based/collect_crops.py {game}_Rmst data/{game}/rmst_files.csv --out_dir data/{game}"
   ]
  },
  {
   "cell_type": "code",
   "execution_count": 25,
   "id": "eQJ18dFC00U8",
   "metadata": {
    "colab": {
     "base_uri": "https://localhost:8080/"
    },
    "id": "eQJ18dFC00U8",
    "outputId": "05a9e839-3ac4-4a47-8f76-a261f0ddaabc"
   },
   "outputs": [
    {
     "name": "stdout",
     "output_type": "stream",
     "text": [
      "Found 870 crops for source dataset.\n",
      "Found 900 crops for target dataset.\n"
     ]
    }
   ],
   "source": [
    "!python3 PhotorealismEnhancement/code/epe/matching/feature_based/find_knn.py \\\n",
    "    data/{game}/crop_{game}_Orig.npz data/{game}/crop_{game}_Rmst.npz data/{game}/knn_{game}.npz -k 10"
   ]
  },
  {
   "cell_type": "code",
   "execution_count": 26,
   "id": "JnrsLZvg1SJm",
   "metadata": {
    "colab": {
     "base_uri": "https://localhost:8080/"
    },
    "id": "JnrsLZvg1SJm",
    "outputId": "b28d874f-e3d4-489b-e9bd-9d6337aded0c"
   },
   "outputs": [
    {
     "name": "stdout",
     "output_type": "stream",
     "text": [
      "870it [00:00, 569007.40it/s]\n",
      "900it [00:00, 617717.82it/s]\n",
      "100%|██████████████████████████████████| 4557/4557 [00:00<00:00, 2420342.32it/s]\n"
     ]
    }
   ],
   "source": [
    "!python3 PhotorealismEnhancement/code/epe/matching/filter.py \\\n",
    "    data/{game}/knn_{game}.npz data/{game}/crop_{game}_Orig.csv data/{game}/crop_{game}_Rmst.csv 1.0 data/{game}/matched_crops_Halo2.csv"
   ]
  },
  {
   "cell_type": "code",
   "execution_count": 34,
   "id": "H8b70mkzEcvI",
   "metadata": {
    "colab": {
     "base_uri": "https://localhost:8080/"
    },
    "id": "H8b70mkzEcvI",
    "outputId": "01f15c5f-9565-4562-f7c7-64f86ed170d3"
   },
   "outputs": [],
   "source": [
    "# https://github.com/isl-org/PhotorealismEnhancement/issues/26\n",
    "!python3 PhotorealismEnhancement/code/epe/matching/feature_based/sample_matches.py \\\n",
    "    data/{game}/orig_files.csv data/{game}/crop_{game}_Orig.csv data/{game}/rmst_files.csv \\\n",
    "    data/{game}/crop_{game}_Rmst.csv data/{game}/knn_{game}.npz"
   ]
  },
  {
   "cell_type": "code",
   "execution_count": 36,
   "id": "76afc5f0-6991-4ea1-ab28-62e1abf44d70",
   "metadata": {},
   "outputs": [
    {
     "name": "stdout",
     "output_type": "stream",
     "text": [
      "Computing density...\n",
      "100%|████████████████████████████████████| 4557/4557 [00:00<00:00, 53171.47it/s]\n",
      "Computing individual weights...\n",
      "100%|████████████████████████████████████| 4557/4557 [00:00<00:00, 64752.92it/s]\n"
     ]
    }
   ],
   "source": [
    "# !python3 PhotorealismEnhancement/code/epe/matching/compute_weights.py \\\n",
    "#     data/{game}/matched_crops_{game}.csv 960 1080 data/{game}/crop_weights_{game}.npz\n",
    "!python3 PhotorealismEnhancement/code/epe/matching/compute_weights.py \\\n",
    "    data/{game}/matched_crops_{game}.csv 480 960 data/{game}/crop_weights_{game}.npz"
   ]
  },
  {
   "cell_type": "code",
   "execution_count": 18,
   "id": "13f3baad-5ad4-4bc3-b866-6f1a0fed8ff0",
   "metadata": {},
   "outputs": [
    {
     "name": "stderr",
     "output_type": "stream",
     "text": [
      "  0%|                                            | 0/54 [00:00<?, ?it/s]/Users/milz/Desktop/Study/Columbia/CS4995_DeepVisionTopics/Project/mseg-semantic/mseg_semantic/model/seg_hrnet.py:579: UserWarning: \n",
      "The version_base parameter is not specified.\n",
      "Please specify a compatability version level, or None.\n",
      "Will assume defaults for version 1.1\n",
      "  with hydra.initialize_config_module(config_module=\"mseg_semantic.model\"):\n",
      "/Library/Frameworks/Python.framework/Versions/3.10/lib/python3.10/site-packages/torch/nn/functional.py:3734: UserWarning: nn.functional.upsample is deprecated. Use nn.functional.interpolate instead.\n",
      "  warnings.warn(\"nn.functional.upsample is deprecated. Use nn.functional.interpolate instead.\")\n",
      "  0%|                                            | 0/54 [00:09<?, ?it/s]"
     ]
    },
    {
     "name": "stdout",
     "output_type": "stream",
     "text": [
      "mkdir: data/halo2/orig_rbseg2: File exists\n"
     ]
    },
    {
     "name": "stderr",
     "output_type": "stream",
     "text": [
      "\n"
     ]
    }
   ],
   "source": [
    "orig_train = pd.read_csv(f'data/{game}/orig_files.csv', header=None).sort_values(0)\n",
    "orig_train[1] = orig_train[0].str.replace('.png', '.npz', regex=False)\n",
    "orig_train[1] = orig_train[1].str.replace('origs', 'gbuffers', regex=False)\n",
    "orig_train[2] = orig_train[0].str.replace('.png', '_overlaid_classes.jpg', regex=False)\n",
    "orig_train[2] = orig_train[2].str.replace('origs', 'orig_rbseg', regex=False)\n",
    "# orig_train[3] = 'nan_gt_sseg.png'\n",
    "orig_train[3] = orig_train[2]\n",
    "orig_train = orig_train[orig_train.apply(lambda row: all([os.path.exists(row[x]) for x in range(orig_train.shape[1])]), axis=1)]\n",
    "orig_train = orig_train[[0, 2, 1, 3]]\n",
    "orig_train.to_csv(f'data/{game}/orig_train.txt', index=False, header=False)\n",
    "\n",
    "# mseg_fmt = 'python3 -u mseg-semantic/mseg_semantic/tool/universal_demo.py --config=mseg-semantic/mseg_semantic/config/test/default_config_360_ms.yaml model_name mseg-3m model_path mseg-3m-1080p.pth input_file {}'\n",
    "mseg_fmt = 'python3 -u mseg-semantic/mseg_semantic/tool/universal_demo.py --config=mseg-semantic/mseg_semantic/config/test/default_config_360_ss.yaml model_name mseg-3m model_path mseg-3m-1080p.pth input_file {}'\n",
    "\n",
    "for x in tqdm(orig_train[0].values):\n",
    "    res = os.system(mseg_fmt.format(x))\n",
    "    break\n",
    "    if res:\n",
    "        print(f'{x} failed with exit code of {res}')\n",
    "\n",
    "# for x in os.listdir('.'):\n",
    "#     if x.endswith('_gray.jpg'):\n",
    "#         os.remove(x)\n",
    "\n",
    "!mkdir data/{game}/orig_rbseg2 && mv *_overlaid_classes.jpg data/{game}/orig_rbseg2"
   ]
  },
  {
   "cell_type": "code",
   "execution_count": 343,
   "id": "95d62349-00dd-49d4-b324-34d305bb92cf",
   "metadata": {},
   "outputs": [
    {
     "name": "stderr",
     "output_type": "stream",
     "text": [
      "/Users/milz/Desktop/Study/Columbia/CS4995_DeepVisionTopics/Project/mseg-semantic/mseg_semantic/model/seg_hrnet.py:579: UserWarning: \n",
      "The version_base parameter is not specified.\n",
      "Please specify a compatability version level, or None.\n",
      "Will assume defaults for version 1.1\n",
      "  with hydra.initialize_config_module(config_module=\"mseg_semantic.model\"):\n",
      "/Library/Frameworks/Python.framework/Versions/3.10/lib/python3.10/site-packages/torch/nn/functional.py:3734: UserWarning: nn.functional.upsample is deprecated. Use nn.functional.interpolate instead.\n",
      "  warnings.warn(\"nn.functional.upsample is deprecated. Use nn.functional.interpolate instead.\")\n",
      "/Users/milz/Desktop/Study/Columbia/CS4995_DeepVisionTopics/Project/mseg-semantic/mseg_semantic/model/seg_hrnet.py:579: UserWarning: \n",
      "The version_base parameter is not specified.\n",
      "Please specify a compatability version level, or None.\n",
      "Will assume defaults for version 1.1\n",
      "  with hydra.initialize_config_module(config_module=\"mseg_semantic.model\"):\n",
      "/Library/Frameworks/Python.framework/Versions/3.10/lib/python3.10/site-packages/torch/nn/functional.py:3734: UserWarning: nn.functional.upsample is deprecated. Use nn.functional.interpolate instead.\n",
      "  warnings.warn(\"nn.functional.upsample is deprecated. Use nn.functional.interpolate instead.\")\n"
     ]
    },
    {
     "name": "stdout",
     "output_type": "stream",
     "text": [
      "mkdir: data/halo2/rmst_rbseg: File exists\n"
     ]
    }
   ],
   "source": [
    "rmst_train = pd.read_csv(f'data/{game}/rmst_files.csv', header=None).sort_values(0)\n",
    "rmst_train[1] = rmst_train[0].str.replace('.png', '_overlaid_classes.jpg', regex=False)\n",
    "rmst_train[1] = rmst_train[1].str.replace('remasters', 'rmst_rbseg', regex=False)\n",
    "rmst_train = rmst_train[rmst_train.apply(lambda row: all([os.path.exists(row[x]) for x in range(rmst_train.shape[1])]), axis=1)]\n",
    "rmst_train.to_csv(f'data/{game}/rmst_train.txt', index=False, header=False)\n",
    "\n",
    "for i, row in tqdm(rmst_train.iterrows()):\n",
    "    if os.path.exists(row[1]):\n",
    "        continue\n",
    "        \n",
    "    res = os.system(mseg_fmt.format(row[0]))\n",
    "    \n",
    "    if res:\n",
    "        print(f'{row[0]} failed with exit code of {res}')\n",
    "\n",
    "for x in os.listdir('.'):\n",
    "    if x.endswith('_gray.jpg'):\n",
    "        os.remove(x)\n",
    "\n",
    "!mkdir data/{game}/rmst_rbseg && mv *_overlaid_classes.jpg data/{game}/rmst_rbseg"
   ]
  },
  {
   "cell_type": "code",
   "execution_count": 8,
   "id": "e02b7484-0ef8-4b1d-9d5f-b291423a4d70",
   "metadata": {},
   "outputs": [
    {
     "name": "stdout",
     "output_type": "stream",
     "text": [
      "NOTE: Redirects are currently not supported in Windows or MacOs.\n",
      "Namespace(action='train', config=PosixPath('data/halo2/train_halo2.yaml'), log='info', log_dir=PosixPath('log'), gpu=0, no_safe_exit=False)\n",
      "Traceback (most recent call last):\n",
      "  File \"/Users/milz/Desktop/Study/Columbia/CS4995_DeepVisionTopics/Project/PhotorealismEnhancement/code/epe/EPEExperiment.py\", line 390, in <module>\n",
      "    raise\n",
      "RuntimeError: No active exception to reraise\n"
     ]
    }
   ],
   "source": [
    "!python3 PhotorealismEnhancement/code/epe/EPEExperiment.py train data/{game}/train_halo2.yaml --log=info"
   ]
  }
 ],
 "metadata": {
  "accelerator": "GPU",
  "colab": {
   "provenance": []
  },
  "gpuClass": "standard",
  "kernelspec": {
   "display_name": "Python 3 (ipykernel)",
   "language": "python",
   "name": "python3"
  },
  "language_info": {
   "codemirror_mode": {
    "name": "ipython",
    "version": 3
   },
   "file_extension": ".py",
   "mimetype": "text/x-python",
   "name": "python",
   "nbconvert_exporter": "python",
   "pygments_lexer": "ipython3",
   "version": "3.10.8"
  }
 },
 "nbformat": 4,
 "nbformat_minor": 5
}
